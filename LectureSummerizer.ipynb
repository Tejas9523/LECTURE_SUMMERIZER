{
  "nbformat": 4,
  "nbformat_minor": 0,
  "metadata": {
    "colab": {
      "provenance": [],
      "authorship_tag": "ABX9TyMdhQnOi8N0KazbCHMLfAL8",
      "include_colab_link": true
    },
    "kernelspec": {
      "name": "python3",
      "display_name": "Python 3"
    },
    "language_info": {
      "name": "python"
    },
    "widgets": {
      "application/vnd.jupyter.widget-state+json": {
        "48d5b2666517419fbf9f3ca79cabd21a": {
          "model_module": "@jupyter-widgets/controls",
          "model_name": "HBoxModel",
          "model_module_version": "1.5.0",
          "state": {
            "_dom_classes": [],
            "_model_module": "@jupyter-widgets/controls",
            "_model_module_version": "1.5.0",
            "_model_name": "HBoxModel",
            "_view_count": null,
            "_view_module": "@jupyter-widgets/controls",
            "_view_module_version": "1.5.0",
            "_view_name": "HBoxView",
            "box_style": "",
            "children": [
              "IPY_MODEL_e3f4dfa8fef64904870ed53a387c3957",
              "IPY_MODEL_8a12351d184344f280a68a00d430e14f",
              "IPY_MODEL_d7d8250b504946c5ab675f9b1389b02c"
            ],
            "layout": "IPY_MODEL_3e16bbf08d5844ac995e74007139269f"
          }
        },
        "e3f4dfa8fef64904870ed53a387c3957": {
          "model_module": "@jupyter-widgets/controls",
          "model_name": "HTMLModel",
          "model_module_version": "1.5.0",
          "state": {
            "_dom_classes": [],
            "_model_module": "@jupyter-widgets/controls",
            "_model_module_version": "1.5.0",
            "_model_name": "HTMLModel",
            "_view_count": null,
            "_view_module": "@jupyter-widgets/controls",
            "_view_module_version": "1.5.0",
            "_view_name": "HTMLView",
            "description": "",
            "description_tooltip": null,
            "layout": "IPY_MODEL_522d596c8e5144fa879d30e7521305b1",
            "placeholder": "​",
            "style": "IPY_MODEL_89227908f6e44fd0ad0ad33d0f9dac66",
            "value": "config.json: 100%"
          }
        },
        "8a12351d184344f280a68a00d430e14f": {
          "model_module": "@jupyter-widgets/controls",
          "model_name": "FloatProgressModel",
          "model_module_version": "1.5.0",
          "state": {
            "_dom_classes": [],
            "_model_module": "@jupyter-widgets/controls",
            "_model_module_version": "1.5.0",
            "_model_name": "FloatProgressModel",
            "_view_count": null,
            "_view_module": "@jupyter-widgets/controls",
            "_view_module_version": "1.5.0",
            "_view_name": "ProgressView",
            "bar_style": "success",
            "description": "",
            "description_tooltip": null,
            "layout": "IPY_MODEL_44160940c4774489a2105b48d5b74f88",
            "max": 1802,
            "min": 0,
            "orientation": "horizontal",
            "style": "IPY_MODEL_008d8b23cd9d40d4955667ac3f5678b6",
            "value": 1802
          }
        },
        "d7d8250b504946c5ab675f9b1389b02c": {
          "model_module": "@jupyter-widgets/controls",
          "model_name": "HTMLModel",
          "model_module_version": "1.5.0",
          "state": {
            "_dom_classes": [],
            "_model_module": "@jupyter-widgets/controls",
            "_model_module_version": "1.5.0",
            "_model_name": "HTMLModel",
            "_view_count": null,
            "_view_module": "@jupyter-widgets/controls",
            "_view_module_version": "1.5.0",
            "_view_name": "HTMLView",
            "description": "",
            "description_tooltip": null,
            "layout": "IPY_MODEL_3c8976936d324948a60d8d10cdfff96c",
            "placeholder": "​",
            "style": "IPY_MODEL_d253ded5c7474c36b58d688d72975d72",
            "value": " 1.80k/1.80k [00:00&lt;00:00, 94.7kB/s]"
          }
        },
        "3e16bbf08d5844ac995e74007139269f": {
          "model_module": "@jupyter-widgets/base",
          "model_name": "LayoutModel",
          "model_module_version": "1.2.0",
          "state": {
            "_model_module": "@jupyter-widgets/base",
            "_model_module_version": "1.2.0",
            "_model_name": "LayoutModel",
            "_view_count": null,
            "_view_module": "@jupyter-widgets/base",
            "_view_module_version": "1.2.0",
            "_view_name": "LayoutView",
            "align_content": null,
            "align_items": null,
            "align_self": null,
            "border": null,
            "bottom": null,
            "display": null,
            "flex": null,
            "flex_flow": null,
            "grid_area": null,
            "grid_auto_columns": null,
            "grid_auto_flow": null,
            "grid_auto_rows": null,
            "grid_column": null,
            "grid_gap": null,
            "grid_row": null,
            "grid_template_areas": null,
            "grid_template_columns": null,
            "grid_template_rows": null,
            "height": null,
            "justify_content": null,
            "justify_items": null,
            "left": null,
            "margin": null,
            "max_height": null,
            "max_width": null,
            "min_height": null,
            "min_width": null,
            "object_fit": null,
            "object_position": null,
            "order": null,
            "overflow": null,
            "overflow_x": null,
            "overflow_y": null,
            "padding": null,
            "right": null,
            "top": null,
            "visibility": null,
            "width": null
          }
        },
        "522d596c8e5144fa879d30e7521305b1": {
          "model_module": "@jupyter-widgets/base",
          "model_name": "LayoutModel",
          "model_module_version": "1.2.0",
          "state": {
            "_model_module": "@jupyter-widgets/base",
            "_model_module_version": "1.2.0",
            "_model_name": "LayoutModel",
            "_view_count": null,
            "_view_module": "@jupyter-widgets/base",
            "_view_module_version": "1.2.0",
            "_view_name": "LayoutView",
            "align_content": null,
            "align_items": null,
            "align_self": null,
            "border": null,
            "bottom": null,
            "display": null,
            "flex": null,
            "flex_flow": null,
            "grid_area": null,
            "grid_auto_columns": null,
            "grid_auto_flow": null,
            "grid_auto_rows": null,
            "grid_column": null,
            "grid_gap": null,
            "grid_row": null,
            "grid_template_areas": null,
            "grid_template_columns": null,
            "grid_template_rows": null,
            "height": null,
            "justify_content": null,
            "justify_items": null,
            "left": null,
            "margin": null,
            "max_height": null,
            "max_width": null,
            "min_height": null,
            "min_width": null,
            "object_fit": null,
            "object_position": null,
            "order": null,
            "overflow": null,
            "overflow_x": null,
            "overflow_y": null,
            "padding": null,
            "right": null,
            "top": null,
            "visibility": null,
            "width": null
          }
        },
        "89227908f6e44fd0ad0ad33d0f9dac66": {
          "model_module": "@jupyter-widgets/controls",
          "model_name": "DescriptionStyleModel",
          "model_module_version": "1.5.0",
          "state": {
            "_model_module": "@jupyter-widgets/controls",
            "_model_module_version": "1.5.0",
            "_model_name": "DescriptionStyleModel",
            "_view_count": null,
            "_view_module": "@jupyter-widgets/base",
            "_view_module_version": "1.2.0",
            "_view_name": "StyleView",
            "description_width": ""
          }
        },
        "44160940c4774489a2105b48d5b74f88": {
          "model_module": "@jupyter-widgets/base",
          "model_name": "LayoutModel",
          "model_module_version": "1.2.0",
          "state": {
            "_model_module": "@jupyter-widgets/base",
            "_model_module_version": "1.2.0",
            "_model_name": "LayoutModel",
            "_view_count": null,
            "_view_module": "@jupyter-widgets/base",
            "_view_module_version": "1.2.0",
            "_view_name": "LayoutView",
            "align_content": null,
            "align_items": null,
            "align_self": null,
            "border": null,
            "bottom": null,
            "display": null,
            "flex": null,
            "flex_flow": null,
            "grid_area": null,
            "grid_auto_columns": null,
            "grid_auto_flow": null,
            "grid_auto_rows": null,
            "grid_column": null,
            "grid_gap": null,
            "grid_row": null,
            "grid_template_areas": null,
            "grid_template_columns": null,
            "grid_template_rows": null,
            "height": null,
            "justify_content": null,
            "justify_items": null,
            "left": null,
            "margin": null,
            "max_height": null,
            "max_width": null,
            "min_height": null,
            "min_width": null,
            "object_fit": null,
            "object_position": null,
            "order": null,
            "overflow": null,
            "overflow_x": null,
            "overflow_y": null,
            "padding": null,
            "right": null,
            "top": null,
            "visibility": null,
            "width": null
          }
        },
        "008d8b23cd9d40d4955667ac3f5678b6": {
          "model_module": "@jupyter-widgets/controls",
          "model_name": "ProgressStyleModel",
          "model_module_version": "1.5.0",
          "state": {
            "_model_module": "@jupyter-widgets/controls",
            "_model_module_version": "1.5.0",
            "_model_name": "ProgressStyleModel",
            "_view_count": null,
            "_view_module": "@jupyter-widgets/base",
            "_view_module_version": "1.2.0",
            "_view_name": "StyleView",
            "bar_color": null,
            "description_width": ""
          }
        },
        "3c8976936d324948a60d8d10cdfff96c": {
          "model_module": "@jupyter-widgets/base",
          "model_name": "LayoutModel",
          "model_module_version": "1.2.0",
          "state": {
            "_model_module": "@jupyter-widgets/base",
            "_model_module_version": "1.2.0",
            "_model_name": "LayoutModel",
            "_view_count": null,
            "_view_module": "@jupyter-widgets/base",
            "_view_module_version": "1.2.0",
            "_view_name": "LayoutView",
            "align_content": null,
            "align_items": null,
            "align_self": null,
            "border": null,
            "bottom": null,
            "display": null,
            "flex": null,
            "flex_flow": null,
            "grid_area": null,
            "grid_auto_columns": null,
            "grid_auto_flow": null,
            "grid_auto_rows": null,
            "grid_column": null,
            "grid_gap": null,
            "grid_row": null,
            "grid_template_areas": null,
            "grid_template_columns": null,
            "grid_template_rows": null,
            "height": null,
            "justify_content": null,
            "justify_items": null,
            "left": null,
            "margin": null,
            "max_height": null,
            "max_width": null,
            "min_height": null,
            "min_width": null,
            "object_fit": null,
            "object_position": null,
            "order": null,
            "overflow": null,
            "overflow_x": null,
            "overflow_y": null,
            "padding": null,
            "right": null,
            "top": null,
            "visibility": null,
            "width": null
          }
        },
        "d253ded5c7474c36b58d688d72975d72": {
          "model_module": "@jupyter-widgets/controls",
          "model_name": "DescriptionStyleModel",
          "model_module_version": "1.5.0",
          "state": {
            "_model_module": "@jupyter-widgets/controls",
            "_model_module_version": "1.5.0",
            "_model_name": "DescriptionStyleModel",
            "_view_count": null,
            "_view_module": "@jupyter-widgets/base",
            "_view_module_version": "1.2.0",
            "_view_name": "StyleView",
            "description_width": ""
          }
        }
      }
    }
  },
  "cells": [
    {
      "cell_type": "markdown",
      "metadata": {
        "id": "view-in-github",
        "colab_type": "text"
      },
      "source": [
        "<a href=\"https://colab.research.google.com/github/Tejas9523/LECTURE_SUMMERIZER/blob/main/LectureSummerizer.ipynb\" target=\"_parent\"><img src=\"https://colab.research.google.com/assets/colab-badge.svg\" alt=\"Open In Colab\"/></a>"
      ]
    },
    {
      "cell_type": "code",
      "source": [
        "from moviepy.editor import VideoFileClip\n",
        "\n",
        "def convert_video_to_audio(video_path, audio_path):\n",
        "    video = VideoFileClip(video_path)\n",
        "    video.audio.write_audiofile(audio_path)\n",
        "\n",
        "def main():\n",
        "    video_path = \"/content/video.mp4\"  # Replace with your video file path\n",
        "    audio_path = \"/content/audio.mp3\"  # Replace with your desired output audio file path\n",
        "    convert_video_to_audio(video_path, audio_path)\n",
        "    print(f\"Audio file saved at {audio_path}\")\n",
        "\n",
        "if __name__ == \"__main__\":\n",
        "    main()\n"
      ],
      "metadata": {
        "colab": {
          "base_uri": "https://localhost:8080/"
        },
        "id": "7gact0Yu_zYV",
        "outputId": "600d38d1-9a0e-4bcd-a9ff-553aa09e2a02"
      },
      "execution_count": 10,
      "outputs": [
        {
          "output_type": "stream",
          "name": "stdout",
          "text": [
            "MoviePy - Writing audio in /content/audio.mp3\n"
          ]
        },
        {
          "output_type": "stream",
          "name": "stderr",
          "text": [
            "                                                                     "
          ]
        },
        {
          "output_type": "stream",
          "name": "stdout",
          "text": [
            "MoviePy - Done.\n",
            "Audio file saved at /content/audio.mp3\n"
          ]
        },
        {
          "output_type": "stream",
          "name": "stderr",
          "text": [
            "\r"
          ]
        }
      ]
    },
    {
      "cell_type": "code",
      "source": [
        "import speech_recognition as sr\n",
        "from pydub import AudioSegment\n",
        "\n",
        "def convert_audio_to_wav(input_audio_path, output_audio_path):\n",
        "    # Convert the input audio file to WAV format if it's not already in that format\n",
        "    audio = AudioSegment.from_file(input_audio_path)\n",
        "    audio.export(output_audio_path, format=\"wav\")\n",
        "\n",
        "def convert_speech_to_text(audio_path):\n",
        "    recognizer = sr.Recognizer()\n",
        "    audio_file = sr.AudioFile(audio_path)\n",
        "    with audio_file as source:\n",
        "        audio = recognizer.record(source)\n",
        "    try:\n",
        "        text = recognizer.recognize_google(audio)\n",
        "        return text\n",
        "    except sr.UnknownValueError:\n",
        "        print(\"Google Speech Recognition could not understand audio\")\n",
        "        return None\n",
        "    except sr.RequestError as e:\n",
        "        print(f\"Could not request results from Google Speech Recognition service; {e}\")\n",
        "        return None\n",
        "\n",
        "def save_text_to_file(text, file_path):\n",
        "    with open(file_path, 'w') as file:\n",
        "        file.write(text)\n",
        "\n",
        "def main(input_audio_path, output_text_file_path):\n",
        "    wav_audio_path = \"temp_audio.wav\"\n",
        "    convert_audio_to_wav(input_audio_path, wav_audio_path)\n",
        "    text = convert_speech_to_text(wav_audio_path)\n",
        "    if text:\n",
        "        save_text_to_file(text, output_text_file_path)\n",
        "        print(f\"Text saved to {output_text_file_path}\")\n",
        "\n",
        "if __name__ == \"__main__\":\n",
        "    input_audio_path = \"/content/audio.mp3\"  # Replace with your audio file path\n",
        "    output_text_file_path = \"/content/output.txt\"  # Replace with desired output text file path\n",
        "    main(input_audio_path, output_text_file_path)\n"
      ],
      "metadata": {
        "colab": {
          "base_uri": "https://localhost:8080/"
        },
        "id": "RCLSG35JuYLG",
        "outputId": "4d850ae0-f75e-434a-ea50-a847ef397dbb"
      },
      "execution_count": 11,
      "outputs": [
        {
          "output_type": "stream",
          "name": "stdout",
          "text": [
            "Text saved to /content/output.txt\n"
          ]
        }
      ]
    },
    {
      "cell_type": "code",
      "source": [
        "with open(\"/content/output.txt\", 'r') as file:\n",
        "            content = file.read()\n",
        "            print(content)\n",
        "            file.close()"
      ],
      "metadata": {
        "colab": {
          "base_uri": "https://localhost:8080/"
        },
        "id": "6CKXPiY_2Df1",
        "outputId": "0a90066e-0cf9-4808-b316-af525389df00"
      },
      "execution_count": 12,
      "outputs": [
        {
          "output_type": "stream",
          "name": "stdout",
          "text": [
            "as technology evolves in the world's population grows so does the amount of data being generated collecting sorting and analyzing all of this data can be pretty time consuming however that's starting to change with the emergence of something called machine learning machine learning is a type of computer science that allows computer programs to learn and improve all on their own in the past computers could only do what we program them to do but with machine learning they can behave like humans and gain knowledge based on their past experiences this process can get pretty complicated but here's how it works on a basic level let's say we want a program that can tell the difference between Apples and Bananas first will give it some labeled pictures of each the program will then look for patterns in the fruits and start to remember them it can then use these memories to look at unlabeled pictures of apples and bananas and determine which is which all on its own believe it or not you probably encounter machine learning on a daily basis social media sites use it to create your feed based on your preferences and search engines use it to improve the accuracy of their search results it's also being used on a larger scale the medical industry is applying machine learning to things like predicting life spans organizing patient data and even diagnosing certain diseases as with many emerging Technologies there's a concern that machine learning May eliminate certain jobs this will vary from industry to industry but it does have the potential to get rid of or change a number of occupations including drivers bankers and potentially even certain doctors while it may have some negative effects many believe that it's positive applications without them Goodwill Community Foundation creating opportunities for a better life\n"
          ]
        }
      ]
    },
    {
      "cell_type": "code",
      "source": [
        "import nltk\n",
        "from nltk.corpus import stopwords\n",
        "from nltk.tokenize import word_tokenize\n",
        "from nltk.stem import WordNetLemmatizer\n",
        "from nltk.stem import PorterStemmer"
      ],
      "metadata": {
        "id": "rSB6e0m84F-s"
      },
      "execution_count": 13,
      "outputs": []
    },
    {
      "cell_type": "code",
      "source": [
        "nltk.download('stopwords')\n",
        "nltk.download('punkt')\n",
        "nltk.download('averaged_perceptron_tagger')\n",
        "nltk.download('wordnet')"
      ],
      "metadata": {
        "colab": {
          "base_uri": "https://localhost:8080/"
        },
        "id": "Ws7JvgY94I63",
        "outputId": "b075c9be-b2c9-4e3d-d87c-4be7291905c9"
      },
      "execution_count": 14,
      "outputs": [
        {
          "output_type": "stream",
          "name": "stderr",
          "text": [
            "[nltk_data] Downloading package stopwords to /root/nltk_data...\n",
            "[nltk_data]   Unzipping corpora/stopwords.zip.\n",
            "[nltk_data] Downloading package punkt to /root/nltk_data...\n",
            "[nltk_data]   Unzipping tokenizers/punkt.zip.\n",
            "[nltk_data] Downloading package averaged_perceptron_tagger to\n",
            "[nltk_data]     /root/nltk_data...\n",
            "[nltk_data]   Unzipping taggers/averaged_perceptron_tagger.zip.\n",
            "[nltk_data] Downloading package wordnet to /root/nltk_data...\n"
          ]
        },
        {
          "output_type": "execute_result",
          "data": {
            "text/plain": [
              "True"
            ]
          },
          "metadata": {},
          "execution_count": 14
        }
      ]
    },
    {
      "cell_type": "code",
      "source": [
        "with open('/content/output.txt', 'r') as file:\n",
        "        text = file.read()"
      ],
      "metadata": {
        "id": "QedrbdZY4Lch"
      },
      "execution_count": 15,
      "outputs": []
    },
    {
      "cell_type": "code",
      "source": [
        "# Tokenize\n",
        "tokens = word_tokenize(text)\n",
        "\n",
        "# to lower case\n",
        "tokens = [word.lower() for word in tokens]\n",
        "\n",
        "# punctuation removal\n",
        "tokens = [word for word in tokens if word.isalnum()]\n",
        "\n",
        "# stop words removal\n",
        "stop_words = set(stopwords.words('english'))\n",
        "tokens = [word for word in tokens if word not in stop_words]\n",
        "print(tokens)\n",
        "\n",
        "# stemming\n",
        "stemmer = PorterStemmer()\n",
        "stemmed_tokens = [stemmer.stem(token) for token in tokens]\n",
        "\n",
        "# lemmatization\n",
        "lemmatized_tokens = [WordNetLemmatizer().lemmatize(token, pos='v') for token in tokens]\n",
        "words =  ' '.join(lemmatized_tokens)\n",
        "print(words)\n",
        "\n",
        "pos_tags = nltk.pos_tag(words.split())\n",
        "print(pos_tags)"
      ],
      "metadata": {
        "colab": {
          "base_uri": "https://localhost:8080/"
        },
        "id": "BhRDelOr5K8o",
        "outputId": "36a6f606-6c75-4565-8eaf-135988ded8a8"
      },
      "execution_count": 16,
      "outputs": [
        {
          "output_type": "stream",
          "name": "stdout",
          "text": [
            "['technology', 'evolves', 'world', 'population', 'grows', 'amount', 'data', 'generated', 'collecting', 'sorting', 'analyzing', 'data', 'pretty', 'time', 'consuming', 'however', 'starting', 'change', 'emergence', 'something', 'called', 'machine', 'learning', 'machine', 'learning', 'type', 'computer', 'science', 'allows', 'computer', 'programs', 'learn', 'improve', 'past', 'computers', 'could', 'program', 'machine', 'learning', 'behave', 'like', 'humans', 'gain', 'knowledge', 'based', 'past', 'experiences', 'process', 'get', 'pretty', 'complicated', 'works', 'basic', 'level', 'let', 'say', 'want', 'program', 'tell', 'difference', 'apples', 'bananas', 'first', 'give', 'labeled', 'pictures', 'program', 'look', 'patterns', 'fruits', 'start', 'remember', 'use', 'memories', 'look', 'unlabeled', 'pictures', 'apples', 'bananas', 'determine', 'believe', 'probably', 'encounter', 'machine', 'learning', 'daily', 'basis', 'social', 'media', 'sites', 'use', 'create', 'feed', 'based', 'preferences', 'search', 'engines', 'use', 'improve', 'accuracy', 'search', 'results', 'also', 'used', 'larger', 'scale', 'medical', 'industry', 'applying', 'machine', 'learning', 'things', 'like', 'predicting', 'life', 'spans', 'organizing', 'patient', 'data', 'even', 'diagnosing', 'certain', 'diseases', 'many', 'emerging', 'technologies', 'concern', 'machine', 'learning', 'may', 'eliminate', 'certain', 'jobs', 'vary', 'industry', 'industry', 'potential', 'get', 'rid', 'change', 'number', 'occupations', 'including', 'drivers', 'bankers', 'potentially', 'even', 'certain', 'doctors', 'may', 'negative', 'effects', 'many', 'believe', 'positive', 'applications', 'without', 'goodwill', 'community', 'foundation', 'creating', 'opportunities', 'better', 'life']\n",
            "technology evolve world population grow amount data generate collect sort analyze data pretty time consume however start change emergence something call machine learn machine learn type computer science allow computer program learn improve past computers could program machine learn behave like humans gain knowledge base past experience process get pretty complicate work basic level let say want program tell difference apples bananas first give label picture program look pattern fruit start remember use memories look unlabeled picture apples bananas determine believe probably encounter machine learn daily basis social media sit use create fee base preferences search engines use improve accuracy search result also use larger scale medical industry apply machine learn things like predict life span organize patient data even diagnose certain diseases many emerge technologies concern machine learn may eliminate certain job vary industry industry potential get rid change number occupations include drivers bankers potentially even certain doctor may negative effect many believe positive applications without goodwill community foundation create opportunities better life\n",
            "[('technology', 'NN'), ('evolve', 'VBZ'), ('world', 'NN'), ('population', 'NN'), ('grow', 'NN'), ('amount', 'NN'), ('data', 'NNS'), ('generate', 'NN'), ('collect', 'NN'), ('sort', 'NN'), ('analyze', 'NN'), ('data', 'NNS'), ('pretty', 'RB'), ('time', 'NN'), ('consume', 'JJ'), ('however', 'RB'), ('start', 'VBP'), ('change', 'NN'), ('emergence', 'NN'), ('something', 'NN'), ('call', 'JJ'), ('machine', 'NN'), ('learn', 'NN'), ('machine', 'NN'), ('learn', 'NN'), ('type', 'NN'), ('computer', 'NN'), ('science', 'NN'), ('allow', 'JJ'), ('computer', 'NN'), ('program', 'NN'), ('learn', 'VBP'), ('improve', 'VB'), ('past', 'JJ'), ('computers', 'NNS'), ('could', 'MD'), ('program', 'NN'), ('machine', 'NN'), ('learn', 'VBP'), ('behave', 'VBP'), ('like', 'IN'), ('humans', 'NNS'), ('gain', 'VBP'), ('knowledge', 'NN'), ('base', 'NN'), ('past', 'JJ'), ('experience', 'NN'), ('process', 'NN'), ('get', 'VBP'), ('pretty', 'RB'), ('complicate', 'JJ'), ('work', 'NN'), ('basic', 'JJ'), ('level', 'NN'), ('let', 'NNS'), ('say', 'VBP'), ('want', 'JJ'), ('program', 'NN'), ('tell', 'NN'), ('difference', 'NN'), ('apples', 'NNS'), ('bananas', 'NNS'), ('first', 'RB'), ('give', 'VBP'), ('label', 'JJ'), ('picture', 'NN'), ('program', 'NN'), ('look', 'NN'), ('pattern', 'JJ'), ('fruit', 'JJ'), ('start', 'NN'), ('remember', 'VB'), ('use', 'NN'), ('memories', 'NNS'), ('look', 'VBP'), ('unlabeled', 'JJ'), ('picture', 'NN'), ('apples', 'NNS'), ('bananas', 'VBP'), ('determine', 'NN'), ('believe', 'VBP'), ('probably', 'RB'), ('encounter', 'RB'), ('machine', 'NN'), ('learn', 'JJ'), ('daily', 'JJ'), ('basis', 'NN'), ('social', 'JJ'), ('media', 'NNS'), ('sit', 'VBP'), ('use', 'NN'), ('create', 'NN'), ('fee', 'NN'), ('base', 'NN'), ('preferences', 'NNS'), ('search', 'VBP'), ('engines', 'NNS'), ('use', 'VBP'), ('improve', 'VB'), ('accuracy', 'NN'), ('search', 'NN'), ('result', 'NN'), ('also', 'RB'), ('use', 'VBP'), ('larger', 'JJR'), ('scale', 'JJ'), ('medical', 'JJ'), ('industry', 'NN'), ('apply', 'NN'), ('machine', 'NN'), ('learn', 'VBP'), ('things', 'NNS'), ('like', 'IN'), ('predict', 'JJ'), ('life', 'NN'), ('span', 'NN'), ('organize', 'VBP'), ('patient', 'NN'), ('data', 'NNS'), ('even', 'RB'), ('diagnose', 'VBP'), ('certain', 'JJ'), ('diseases', 'NNS'), ('many', 'JJ'), ('emerge', 'NN'), ('technologies', 'NNS'), ('concern', 'NN'), ('machine', 'NN'), ('learn', 'NN'), ('may', 'MD'), ('eliminate', 'VB'), ('certain', 'JJ'), ('job', 'NN'), ('vary', 'JJ'), ('industry', 'NN'), ('industry', 'NN'), ('potential', 'JJ'), ('get', 'NN'), ('rid', 'JJ'), ('change', 'NN'), ('number', 'NN'), ('occupations', 'NNS'), ('include', 'VBP'), ('drivers', 'NNS'), ('bankers', 'NNS'), ('potentially', 'RB'), ('even', 'RB'), ('certain', 'JJ'), ('doctor', 'NN'), ('may', 'MD'), ('negative', 'VB'), ('effect', 'NN'), ('many', 'JJ'), ('believe', 'VBP'), ('positive', 'JJ'), ('applications', 'NNS'), ('without', 'IN'), ('goodwill', 'NN'), ('community', 'NN'), ('foundation', 'NN'), ('create', 'NN'), ('opportunities', 'NNS'), ('better', 'RBR'), ('life', 'NN')]\n"
          ]
        }
      ]
    },
    {
      "cell_type": "code",
      "source": [
        "from transformers import pipeline\n",
        "summarizer = pipeline(\"summarization\")\n",
        "summarizer(content, max_length=130, min_length=30, do_sample=False)"
      ],
      "metadata": {
        "colab": {
          "base_uri": "https://localhost:8080/",
          "height": 225,
          "referenced_widgets": [
            "48d5b2666517419fbf9f3ca79cabd21a",
            "e3f4dfa8fef64904870ed53a387c3957",
            "8a12351d184344f280a68a00d430e14f",
            "d7d8250b504946c5ab675f9b1389b02c",
            "3e16bbf08d5844ac995e74007139269f",
            "522d596c8e5144fa879d30e7521305b1",
            "89227908f6e44fd0ad0ad33d0f9dac66",
            "44160940c4774489a2105b48d5b74f88",
            "008d8b23cd9d40d4955667ac3f5678b6",
            "3c8976936d324948a60d8d10cdfff96c",
            "d253ded5c7474c36b58d688d72975d72",
            "f9b244a646554c20aed85c5e08adc1f0",
            "b220df2f113f45f0a18d89ee87d65678",
            "797de59ba5dc47fcb3bcf57554c0e84a",
            "a80e6742aa914fecadcaf4a57d19873e",
            "5002f1d58d354f67ae7925302f6ff5fa",
            "1cb1227d8fb14f98b779aa0df15e7a1d",
            "30a8e7db07524e47a0ac86734eb7d8bb",
            "0e588aef4f7c4c328222014ed35a1c6b",
            "2a5aefc719334909abf4ffb39fb53aa5",
            "8595e3ee2d6244be956960b1b3d1f1a5",
            "31a6b7166a3b410390c7afb93611e67f"
          ]
        },
        "id": "_wMvuFd1Ooyj",
        "outputId": "11c9fe81-dccc-4e7e-9187-444f92d95dbe"
      },
      "execution_count": null,
      "outputs": [
        {
          "output_type": "stream",
          "name": "stderr",
          "text": [
            "No model was supplied, defaulted to sshleifer/distilbart-cnn-12-6 and revision a4f8f3e (https://huggingface.co/sshleifer/distilbart-cnn-12-6).\n",
            "Using a pipeline without specifying a model name and revision in production is not recommended.\n",
            "WARNING:py.warnings:/usr/local/lib/python3.10/dist-packages/huggingface_hub/utils/_token.py:88: UserWarning: \n",
            "The secret `HF_TOKEN` does not exist in your Colab secrets.\n",
            "To authenticate with the Hugging Face Hub, create a token in your settings tab (https://huggingface.co/settings/tokens), set it as secret in your Google Colab and restart your session.\n",
            "You will be able to reuse this secret in all of your notebooks.\n",
            "Please note that authentication is recommended but still optional to access public models or datasets.\n",
            "  warnings.warn(\n",
            "\n"
          ]
        },
        {
          "output_type": "display_data",
          "data": {
            "text/plain": [
              "config.json:   0%|          | 0.00/1.80k [00:00<?, ?B/s]"
            ],
            "application/vnd.jupyter.widget-view+json": {
              "version_major": 2,
              "version_minor": 0,
              "model_id": "48d5b2666517419fbf9f3ca79cabd21a"
            }
          },
          "metadata": {}
        }
      ]
    }
  ]
}